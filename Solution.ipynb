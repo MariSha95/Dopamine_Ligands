{
 "cells": [
  {
   "cell_type": "code",
   "execution_count": null,
   "id": "83d9a880-9923-43dd-8eb3-04a937ae5b85",
   "metadata": {},
   "outputs": [],
   "source": [
    "import Loader_preprocessor as lp\n",
    "import Visualizer_filler as vf\n",
    "import matplotlib.pyplot as plt\n",
    "\n",
    "# Загрузка данных\n",
    "file_path = 'enriched_dopamine_ec50.csv'  \n",
    "data = lp.load_data(file_path)\n",
    "df= pd.read_csv('enriched_dopamine_ec50.csv')\n",
    "\n",
    "# Предобработка данных\n",
    "target_column = 'charges'\n",
    "X, y, preprocessor = ml.preprocess_data(data, target_column)\n",
    "\n",
    "# Отчет о пропущенных значениях\n",
    "visualizer.report_missing_values()\n",
    "\n",
    "# Заполнение пропущенных значений средним\n",
    "visualizer.fill_missing_values(method='mean')\n",
    "\n",
    "# Проверка после заполнения\n",
    "visualizer.report_missing_values()\n",
    "\n",
    "# Добавление визуализаций\n",
    "if __name__ == \"__main__\":\n",
    "     main()\n",
    "visualizer.add_histogram('MW')\n",
    "visualizer.add_line_plot('EC50', 'TPSA')\n",
    "visualizer.add_scatter_plot('EC50', 'LogP')\n",
    "\n",
    "# Показать графики\n",
    "visualizer.show_plots()"
   ]
  }
 ],
 "metadata": {
  "kernelspec": {
   "display_name": "Python 3 (ipykernel)",
   "language": "python",
   "name": "python3"
  },
  "language_info": {
   "codemirror_mode": {
    "name": "ipython",
    "version": 3
   },
   "file_extension": ".py",
   "mimetype": "text/x-python",
   "name": "python",
   "nbconvert_exporter": "python",
   "pygments_lexer": "ipython3",
   "version": "3.11.7"
  }
 },
 "nbformat": 4,
 "nbformat_minor": 5
}
